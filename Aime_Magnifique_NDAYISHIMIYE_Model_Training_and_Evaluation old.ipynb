{
  "cells": [
    {
      "cell_type": "code",
      "execution_count": 1,
      "metadata": {
        "id": "w_QCpbaa5N0c"
      },
      "outputs": [],
      "source": [
        "import pandas as pd\n",
        "import numpy as np\n",
        "import tensorflow as tf\n",
        "from sklearn.model_selection import train_test_split\n",
        "from sklearn.preprocessing import StandardScaler\n",
        "from tensorflow.keras.models import Sequential\n",
        "from tensorflow.keras.layers import Dense\n",
        "import os\n"
      ]
    },
    {
      "cell_type": "code",
      "execution_count": 2,
      "metadata": {
        "id": "atFwO-JW5N0e"
      },
      "outputs": [],
      "source": [
        "from sklearn.preprocessing import LabelEncoder, StandardScaler\n",
        "\n",
        "df = pd.read_csv('species_data.csv')\n",
        "df = df.sample(frac=0.4, random_state=42)\n",
        "\n",
        "# Drop unnecessary columns\n",
        "df = df.drop(['internalTaxonId', 'scientificName'], axis=1)\n",
        "\n",
        "# Encode categorical features\n",
        "label_encoders = {}\n",
        "for col in ['speciesName', 'systems', 'scopes', 'Category']:\n",
        "    le = LabelEncoder()\n",
        "    df[col] = le.fit_transform(df[col])\n",
        "    label_encoders[col] = le\n",
        "\n",
        "# Separate features and target\n",
        "X = df.drop('Category', axis=1)\n",
        "y = df['Category']\n"
      ]
    },
    {
      "cell_type": "code",
      "execution_count": 3,
      "metadata": {
        "colab": {
          "base_uri": "https://localhost:8080/"
        },
        "id": "_Be8-UEd5N0f",
        "outputId": "edd24b15-451b-4a9e-edc9-8230ca190024"
      },
      "outputs": [
        {
          "output_type": "stream",
          "name": "stdout",
          "text": [
            "[1 0 2]\n"
          ]
        }
      ],
      "source": [
        "print(df['Category'].unique())"
      ]
    },
    {
      "cell_type": "code",
      "execution_count": 4,
      "metadata": {
        "id": "70ipUJCr5N0g"
      },
      "outputs": [],
      "source": [
        "from sklearn.model_selection import train_test_split\n",
        "\n",
        "# Split data: 80% train, 20% test\n",
        "X_train, X_test, y_train, y_test = train_test_split(X, y, test_size=0.2, random_state=42)\n"
      ]
    },
    {
      "cell_type": "code",
      "execution_count": 5,
      "metadata": {
        "id": "N7Zt5Kmn5N0g"
      },
      "outputs": [],
      "source": [
        "from sklearn.preprocessing import StandardScaler\n",
        "\n",
        "scaler = StandardScaler()\n",
        "\n",
        "# Fit on training data and transform\n",
        "X_train_scaled = scaler.fit_transform(X_train)\n",
        "\n",
        "# Only transform the test set\n",
        "X_test_scaled = scaler.transform(X_test)\n"
      ]
    },
    {
      "cell_type": "code",
      "execution_count": 6,
      "metadata": {
        "colab": {
          "base_uri": "https://localhost:8080/"
        },
        "id": "JXNYHfA15N0g",
        "outputId": "c49c472c-f63e-4556-b5c3-321f6b50e3d3"
      },
      "outputs": [
        {
          "output_type": "stream",
          "name": "stderr",
          "text": [
            "/usr/local/lib/python3.10/dist-packages/keras/src/layers/core/dense.py:87: UserWarning: Do not pass an `input_shape`/`input_dim` argument to a layer. When using Sequential models, prefer using an `Input(shape)` object as the first layer in the model instead.\n",
            "  super().__init__(activity_regularizer=activity_regularizer, **kwargs)\n"
          ]
        },
        {
          "output_type": "stream",
          "name": "stdout",
          "text": [
            "Epoch 1/20\n",
            "\u001b[1m1206/1206\u001b[0m \u001b[32m━━━━━━━━━━━━━━━━━━━━\u001b[0m\u001b[37m\u001b[0m \u001b[1m8s\u001b[0m 5ms/step - accuracy: 0.7109 - loss: 0.8094\n",
            "Epoch 2/20\n",
            "\u001b[1m1206/1206\u001b[0m \u001b[32m━━━━━━━━━━━━━━━━━━━━\u001b[0m\u001b[37m\u001b[0m \u001b[1m6s\u001b[0m 5ms/step - accuracy: 0.7108 - loss: 0.7883\n",
            "Epoch 3/20\n",
            "\u001b[1m1206/1206\u001b[0m \u001b[32m━━━━━━━━━━━━━━━━━━━━\u001b[0m\u001b[37m\u001b[0m \u001b[1m6s\u001b[0m 2ms/step - accuracy: 0.7141 - loss: 0.7805\n",
            "Epoch 4/20\n",
            "\u001b[1m1206/1206\u001b[0m \u001b[32m━━━━━━━━━━━━━━━━━━━━\u001b[0m\u001b[37m\u001b[0m \u001b[1m2s\u001b[0m 2ms/step - accuracy: 0.7095 - loss: 0.7857\n",
            "Epoch 5/20\n",
            "\u001b[1m1206/1206\u001b[0m \u001b[32m━━━━━━━━━━━━━━━━━━━━\u001b[0m\u001b[37m\u001b[0m \u001b[1m3s\u001b[0m 2ms/step - accuracy: 0.7091 - loss: 0.7868\n",
            "Epoch 6/20\n",
            "\u001b[1m1206/1206\u001b[0m \u001b[32m━━━━━━━━━━━━━━━━━━━━\u001b[0m\u001b[37m\u001b[0m \u001b[1m4s\u001b[0m 3ms/step - accuracy: 0.7103 - loss: 0.7844\n",
            "Epoch 7/20\n",
            "\u001b[1m1206/1206\u001b[0m \u001b[32m━━━━━━━━━━━━━━━━━━━━\u001b[0m\u001b[37m\u001b[0m \u001b[1m4s\u001b[0m 2ms/step - accuracy: 0.7094 - loss: 0.7860\n",
            "Epoch 8/20\n",
            "\u001b[1m1206/1206\u001b[0m \u001b[32m━━━━━━━━━━━━━━━━━━━━\u001b[0m\u001b[37m\u001b[0m \u001b[1m3s\u001b[0m 2ms/step - accuracy: 0.7153 - loss: 0.7768\n",
            "Epoch 9/20\n",
            "\u001b[1m1206/1206\u001b[0m \u001b[32m━━━━━━━━━━━━━━━━━━━━\u001b[0m\u001b[37m\u001b[0m \u001b[1m3s\u001b[0m 2ms/step - accuracy: 0.7104 - loss: 0.7845\n",
            "Epoch 10/20\n",
            "\u001b[1m1206/1206\u001b[0m \u001b[32m━━━━━━━━━━━━━━━━━━━━\u001b[0m\u001b[37m\u001b[0m \u001b[1m3s\u001b[0m 2ms/step - accuracy: 0.7094 - loss: 0.7860\n",
            "Epoch 11/20\n",
            "\u001b[1m1206/1206\u001b[0m \u001b[32m━━━━━━━━━━━━━━━━━━━━\u001b[0m\u001b[37m\u001b[0m \u001b[1m3s\u001b[0m 2ms/step - accuracy: 0.7070 - loss: 0.7893\n",
            "Epoch 12/20\n",
            "\u001b[1m1206/1206\u001b[0m \u001b[32m━━━━━━━━━━━━━━━━━━━━\u001b[0m\u001b[37m\u001b[0m \u001b[1m4s\u001b[0m 2ms/step - accuracy: 0.7088 - loss: 0.7844\n",
            "Epoch 13/20\n",
            "\u001b[1m1206/1206\u001b[0m \u001b[32m━━━━━━━━━━━━━━━━━━━━\u001b[0m\u001b[37m\u001b[0m \u001b[1m3s\u001b[0m 2ms/step - accuracy: 0.7108 - loss: 0.7830\n",
            "Epoch 14/20\n",
            "\u001b[1m1206/1206\u001b[0m \u001b[32m━━━━━━━━━━━━━━━━━━━━\u001b[0m\u001b[37m\u001b[0m \u001b[1m2s\u001b[0m 2ms/step - accuracy: 0.7083 - loss: 0.7862\n",
            "Epoch 15/20\n",
            "\u001b[1m1206/1206\u001b[0m \u001b[32m━━━━━━━━━━━━━━━━━━━━\u001b[0m\u001b[37m\u001b[0m \u001b[1m3s\u001b[0m 3ms/step - accuracy: 0.7101 - loss: 0.7842\n",
            "Epoch 16/20\n",
            "\u001b[1m1206/1206\u001b[0m \u001b[32m━━━━━━━━━━━━━━━━━━━━\u001b[0m\u001b[37m\u001b[0m \u001b[1m3s\u001b[0m 2ms/step - accuracy: 0.7087 - loss: 0.7872\n",
            "Epoch 17/20\n",
            "\u001b[1m1206/1206\u001b[0m \u001b[32m━━━━━━━━━━━━━━━━━━━━\u001b[0m\u001b[37m\u001b[0m \u001b[1m2s\u001b[0m 2ms/step - accuracy: 0.7137 - loss: 0.7778\n",
            "Epoch 18/20\n",
            "\u001b[1m1206/1206\u001b[0m \u001b[32m━━━━━━━━━━━━━━━━━━━━\u001b[0m\u001b[37m\u001b[0m \u001b[1m2s\u001b[0m 2ms/step - accuracy: 0.7132 - loss: 0.7805\n",
            "Epoch 19/20\n",
            "\u001b[1m1206/1206\u001b[0m \u001b[32m━━━━━━━━━━━━━━━━━━━━\u001b[0m\u001b[37m\u001b[0m \u001b[1m2s\u001b[0m 2ms/step - accuracy: 0.7057 - loss: 0.7913\n",
            "Epoch 20/20\n",
            "\u001b[1m1206/1206\u001b[0m \u001b[32m━━━━━━━━━━━━━━━━━━━━\u001b[0m\u001b[37m\u001b[0m \u001b[1m3s\u001b[0m 2ms/step - accuracy: 0.7110 - loss: 0.7839\n"
          ]
        }
      ],
      "source": [
        "# Define simple model\n",
        "model1 = Sequential([\n",
        "    Dense(64, activation='relu', input_shape=(X_train_scaled.shape[1],)),\n",
        "    Dense(64, activation='relu'),\n",
        "    Dense(32, activation='relu'),\n",
        "    Dense(3, activation='softmax')  # Output layer for multi-class classification\n",
        "])\n",
        "\n",
        "# Compile the model\n",
        "model1.compile(loss='sparse_categorical_crossentropy', metrics=['accuracy'])\n",
        "\n",
        "# Train the model\n",
        "history1 = model1.fit(X_train_scaled, y_train, epochs=20, batch_size=32)\n"
      ]
    },
    {
      "cell_type": "code",
      "execution_count": 7,
      "metadata": {
        "colab": {
          "base_uri": "https://localhost:8080/"
        },
        "id": "lGNaIEHi5N0h",
        "outputId": "27a311f8-217c-45dc-8157-ac807bcaa25f"
      },
      "outputs": [
        {
          "output_type": "stream",
          "name": "stderr",
          "text": [
            "WARNING:absl:You are saving your model as an HDF5 file via `model.save()` or `keras.saving.save_model(model)`. This file format is considered legacy. We recommend using instead the native Keras format, e.g. `model.save('my_model.keras')` or `keras.saving.save_model(model, 'my_model.keras')`. \n"
          ]
        }
      ],
      "source": [
        "# Save the model\n",
        "os.makedirs(\"saved_models\", exist_ok=True)\n",
        "model1.save(\"saved_models/model1_simple.h5\")\n"
      ]
    },
    {
      "cell_type": "code",
      "execution_count": 8,
      "metadata": {
        "colab": {
          "base_uri": "https://localhost:8080/"
        },
        "id": "noQ5hKbC5N0i",
        "outputId": "74f1262c-4378-42b8-d7b8-9341e66ef3a6"
      },
      "outputs": [
        {
          "output_type": "stream",
          "name": "stdout",
          "text": [
            "Epoch 1/100\n",
            "\u001b[1m1206/1206\u001b[0m \u001b[32m━━━━━━━━━━━━━━━━━━━━\u001b[0m\u001b[37m\u001b[0m \u001b[1m5s\u001b[0m 3ms/step - accuracy: 0.6964 - loss: 0.8344 - learning_rate: 5.0000e-04\n",
            "Epoch 2/100\n",
            "\u001b[1m1206/1206\u001b[0m \u001b[32m━━━━━━━━━━━━━━━━━━━━\u001b[0m\u001b[37m\u001b[0m \u001b[1m3s\u001b[0m 3ms/step - accuracy: 0.7108 - loss: 0.7960 - learning_rate: 5.0000e-04\n",
            "Epoch 3/100\n",
            "\u001b[1m1206/1206\u001b[0m \u001b[32m━━━━━━━━━━━━━━━━━━━━\u001b[0m\u001b[37m\u001b[0m \u001b[1m6s\u001b[0m 3ms/step - accuracy: 0.7053 - loss: 0.7963 - learning_rate: 5.0000e-04\n",
            "Epoch 4/100\n",
            "\u001b[1m1206/1206\u001b[0m \u001b[32m━━━━━━━━━━━━━━━━━━━━\u001b[0m\u001b[37m\u001b[0m \u001b[1m4s\u001b[0m 3ms/step - accuracy: 0.7101 - loss: 0.7866 - learning_rate: 5.0000e-04\n",
            "Epoch 5/100\n",
            "\u001b[1m1206/1206\u001b[0m \u001b[32m━━━━━━━━━━━━━━━━━━━━\u001b[0m\u001b[37m\u001b[0m \u001b[1m3s\u001b[0m 3ms/step - accuracy: 0.7126 - loss: 0.7834 - learning_rate: 5.0000e-04\n",
            "Epoch 6/100\n",
            "\u001b[1m1206/1206\u001b[0m \u001b[32m━━━━━━━━━━━━━━━━━━━━\u001b[0m\u001b[37m\u001b[0m \u001b[1m5s\u001b[0m 4ms/step - accuracy: 0.7077 - loss: 0.7891 - learning_rate: 5.0000e-04\n",
            "Epoch 7/100\n",
            "\u001b[1m1206/1206\u001b[0m \u001b[32m━━━━━━━━━━━━━━━━━━━━\u001b[0m\u001b[37m\u001b[0m \u001b[1m3s\u001b[0m 3ms/step - accuracy: 0.7107 - loss: 0.7845 - learning_rate: 5.0000e-04\n",
            "Epoch 8/100\n",
            "\u001b[1m1206/1206\u001b[0m \u001b[32m━━━━━━━━━━━━━━━━━━━━\u001b[0m\u001b[37m\u001b[0m \u001b[1m3s\u001b[0m 3ms/step - accuracy: 0.7099 - loss: 0.7862 - learning_rate: 5.0000e-04\n",
            "Epoch 9/100\n",
            "\u001b[1m1206/1206\u001b[0m \u001b[32m━━━━━━━━━━━━━━━━━━━━\u001b[0m\u001b[37m\u001b[0m \u001b[1m5s\u001b[0m 4ms/step - accuracy: 0.7100 - loss: 0.7822 - learning_rate: 5.0000e-04\n",
            "Epoch 10/100\n",
            "\u001b[1m1206/1206\u001b[0m \u001b[32m━━━━━━━━━━━━━━━━━━━━\u001b[0m\u001b[37m\u001b[0m \u001b[1m5s\u001b[0m 4ms/step - accuracy: 0.7111 - loss: 0.7829 - learning_rate: 5.0000e-04\n",
            "Epoch 11/100\n",
            "\u001b[1m1206/1206\u001b[0m \u001b[32m━━━━━━━━━━━━━━━━━━━━\u001b[0m\u001b[37m\u001b[0m \u001b[1m4s\u001b[0m 3ms/step - accuracy: 0.7106 - loss: 0.7827 - learning_rate: 5.0000e-04\n",
            "Epoch 12/100\n",
            "\u001b[1m1206/1206\u001b[0m \u001b[32m━━━━━━━━━━━━━━━━━━━━\u001b[0m\u001b[37m\u001b[0m \u001b[1m3s\u001b[0m 3ms/step - accuracy: 0.7133 - loss: 0.7805 - learning_rate: 5.0000e-04\n",
            "Epoch 13/100\n",
            "\u001b[1m1206/1206\u001b[0m \u001b[32m━━━━━━━━━━━━━━━━━━━━\u001b[0m\u001b[37m\u001b[0m \u001b[1m7s\u001b[0m 4ms/step - accuracy: 0.7142 - loss: 0.7765 - learning_rate: 5.0000e-04\n",
            "Epoch 14/100\n",
            "\u001b[1m1206/1206\u001b[0m \u001b[32m━━━━━━━━━━━━━━━━━━━━\u001b[0m\u001b[37m\u001b[0m \u001b[1m4s\u001b[0m 3ms/step - accuracy: 0.7119 - loss: 0.7802 - learning_rate: 5.0000e-04\n",
            "Epoch 15/100\n",
            "\u001b[1m1206/1206\u001b[0m \u001b[32m━━━━━━━━━━━━━━━━━━━━\u001b[0m\u001b[37m\u001b[0m \u001b[1m3s\u001b[0m 3ms/step - accuracy: 0.7123 - loss: 0.7797 - learning_rate: 5.0000e-04\n",
            "Epoch 16/100\n",
            "\u001b[1m1206/1206\u001b[0m \u001b[32m━━━━━━━━━━━━━━━━━━━━\u001b[0m\u001b[37m\u001b[0m \u001b[1m6s\u001b[0m 3ms/step - accuracy: 0.7101 - loss: 0.7832 - learning_rate: 5.0000e-04\n",
            "Epoch 17/100\n",
            "\u001b[1m1206/1206\u001b[0m \u001b[32m━━━━━━━━━━━━━━━━━━━━\u001b[0m\u001b[37m\u001b[0m \u001b[1m5s\u001b[0m 3ms/step - accuracy: 0.7090 - loss: 0.7859 - learning_rate: 5.0000e-04\n",
            "Epoch 18/100\n",
            "\u001b[1m1206/1206\u001b[0m \u001b[32m━━━━━━━━━━━━━━━━━━━━\u001b[0m\u001b[37m\u001b[0m \u001b[1m5s\u001b[0m 4ms/step - accuracy: 0.7120 - loss: 0.7819 - learning_rate: 5.0000e-04\n",
            "Epoch 19/100\n",
            "\u001b[1m1206/1206\u001b[0m \u001b[32m━━━━━━━━━━━━━━━━━━━━\u001b[0m\u001b[37m\u001b[0m \u001b[1m4s\u001b[0m 3ms/step - accuracy: 0.7106 - loss: 0.7826 - learning_rate: 5.0000e-04\n",
            "Epoch 20/100\n",
            "\u001b[1m1206/1206\u001b[0m \u001b[32m━━━━━━━━━━━━━━━━━━━━\u001b[0m\u001b[37m\u001b[0m \u001b[1m5s\u001b[0m 3ms/step - accuracy: 0.7099 - loss: 0.7837 - learning_rate: 5.0000e-04\n",
            "Epoch 21/100\n",
            "\u001b[1m1206/1206\u001b[0m \u001b[32m━━━━━━━━━━━━━━━━━━━━\u001b[0m\u001b[37m\u001b[0m \u001b[1m4s\u001b[0m 4ms/step - accuracy: 0.7112 - loss: 0.7800 - learning_rate: 5.0000e-04\n",
            "Epoch 22/100\n",
            "\u001b[1m1206/1206\u001b[0m \u001b[32m━━━━━━━━━━━━━━━━━━━━\u001b[0m\u001b[37m\u001b[0m \u001b[1m4s\u001b[0m 4ms/step - accuracy: 0.7094 - loss: 0.7815 - learning_rate: 5.0000e-04\n",
            "Epoch 23/100\n",
            "\u001b[1m1206/1206\u001b[0m \u001b[32m━━━━━━━━━━━━━━━━━━━━\u001b[0m\u001b[37m\u001b[0m \u001b[1m4s\u001b[0m 3ms/step - accuracy: 0.7142 - loss: 0.7758 - learning_rate: 5.0000e-04\n",
            "Epoch 24/100\n",
            "\u001b[1m1206/1206\u001b[0m \u001b[32m━━━━━━━━━━━━━━━━━━━━\u001b[0m\u001b[37m\u001b[0m \u001b[1m6s\u001b[0m 4ms/step - accuracy: 0.7040 - loss: 0.7908 - learning_rate: 5.0000e-04\n",
            "Epoch 25/100\n",
            "\u001b[1m1206/1206\u001b[0m \u001b[32m━━━━━━━━━━━━━━━━━━━━\u001b[0m\u001b[37m\u001b[0m \u001b[1m4s\u001b[0m 3ms/step - accuracy: 0.7118 - loss: 0.7796 - learning_rate: 5.0000e-04\n",
            "Epoch 26/100\n",
            "\u001b[1m1206/1206\u001b[0m \u001b[32m━━━━━━━━━━━━━━━━━━━━\u001b[0m\u001b[37m\u001b[0m \u001b[1m4s\u001b[0m 3ms/step - accuracy: 0.7081 - loss: 0.7857 - learning_rate: 5.0000e-04\n",
            "Epoch 27/100\n",
            "\u001b[1m1206/1206\u001b[0m \u001b[32m━━━━━━━━━━━━━━━━━━━━\u001b[0m\u001b[37m\u001b[0m \u001b[1m7s\u001b[0m 4ms/step - accuracy: 0.7077 - loss: 0.7834 - learning_rate: 5.0000e-04\n",
            "Epoch 28/100\n",
            "\u001b[1m1206/1206\u001b[0m \u001b[32m━━━━━━━━━━━━━━━━━━━━\u001b[0m\u001b[37m\u001b[0m \u001b[1m9s\u001b[0m 3ms/step - accuracy: 0.7085 - loss: 0.7860 - learning_rate: 5.0000e-04\n",
            "Epoch 29/100\n",
            "\u001b[1m1206/1206\u001b[0m \u001b[32m━━━━━━━━━━━━━━━━━━━━\u001b[0m\u001b[37m\u001b[0m \u001b[1m6s\u001b[0m 5ms/step - accuracy: 0.7080 - loss: 0.7848 - learning_rate: 2.5000e-04\n",
            "Epoch 30/100\n",
            "\u001b[1m1206/1206\u001b[0m \u001b[32m━━━━━━━━━━━━━━━━━━━━\u001b[0m\u001b[37m\u001b[0m \u001b[1m8s\u001b[0m 3ms/step - accuracy: 0.7108 - loss: 0.7811 - learning_rate: 2.5000e-04\n",
            "Epoch 31/100\n",
            "\u001b[1m1206/1206\u001b[0m \u001b[32m━━━━━━━━━━━━━━━━━━━━\u001b[0m\u001b[37m\u001b[0m \u001b[1m7s\u001b[0m 4ms/step - accuracy: 0.7108 - loss: 0.7798 - learning_rate: 2.5000e-04\n",
            "Epoch 32/100\n",
            "\u001b[1m1206/1206\u001b[0m \u001b[32m━━━━━━━━━━━━━━━━━━━━\u001b[0m\u001b[37m\u001b[0m \u001b[1m8s\u001b[0m 3ms/step - accuracy: 0.7128 - loss: 0.7766 - learning_rate: 2.5000e-04\n",
            "Epoch 33/100\n",
            "\u001b[1m1206/1206\u001b[0m \u001b[32m━━━━━━━━━━━━━━━━━━━━\u001b[0m\u001b[37m\u001b[0m \u001b[1m7s\u001b[0m 4ms/step - accuracy: 0.7053 - loss: 0.7893 - learning_rate: 2.5000e-04\n",
            "Epoch 34/100\n",
            "\u001b[1m1206/1206\u001b[0m \u001b[32m━━━━━━━━━━━━━━━━━━━━\u001b[0m\u001b[37m\u001b[0m \u001b[1m8s\u001b[0m 3ms/step - accuracy: 0.7111 - loss: 0.7809 - learning_rate: 2.5000e-04\n",
            "Epoch 35/100\n",
            "\u001b[1m1206/1206\u001b[0m \u001b[32m━━━━━━━━━━━━━━━━━━━━\u001b[0m\u001b[37m\u001b[0m \u001b[1m6s\u001b[0m 4ms/step - accuracy: 0.7085 - loss: 0.7839 - learning_rate: 2.5000e-04\n",
            "Epoch 36/100\n",
            "\u001b[1m1206/1206\u001b[0m \u001b[32m━━━━━━━━━━━━━━━━━━━━\u001b[0m\u001b[37m\u001b[0m \u001b[1m4s\u001b[0m 3ms/step - accuracy: 0.7068 - loss: 0.7869 - learning_rate: 2.5000e-04\n",
            "Epoch 37/100\n",
            "\u001b[1m1206/1206\u001b[0m \u001b[32m━━━━━━━━━━━━━━━━━━━━\u001b[0m\u001b[37m\u001b[0m \u001b[1m3s\u001b[0m 3ms/step - accuracy: 0.7137 - loss: 0.7755 - learning_rate: 2.5000e-04\n",
            "Epoch 38/100\n",
            "\u001b[1m1206/1206\u001b[0m \u001b[32m━━━━━━━━━━━━━━━━━━━━\u001b[0m\u001b[37m\u001b[0m \u001b[1m5s\u001b[0m 4ms/step - accuracy: 0.7086 - loss: 0.7827 - learning_rate: 1.2500e-04\n",
            "Epoch 39/100\n",
            "\u001b[1m1206/1206\u001b[0m \u001b[32m━━━━━━━━━━━━━━━━━━━━\u001b[0m\u001b[37m\u001b[0m \u001b[1m4s\u001b[0m 3ms/step - accuracy: 0.7094 - loss: 0.7813 - learning_rate: 1.2500e-04\n",
            "Epoch 40/100\n",
            "\u001b[1m1206/1206\u001b[0m \u001b[32m━━━━━━━━━━━━━━━━━━━━\u001b[0m\u001b[37m\u001b[0m \u001b[1m3s\u001b[0m 3ms/step - accuracy: 0.7122 - loss: 0.7771 - learning_rate: 1.2500e-04\n",
            "Epoch 41/100\n",
            "\u001b[1m1206/1206\u001b[0m \u001b[32m━━━━━━━━━━━━━━━━━━━━\u001b[0m\u001b[37m\u001b[0m \u001b[1m6s\u001b[0m 5ms/step - accuracy: 0.7084 - loss: 0.7830 - learning_rate: 1.2500e-04\n",
            "Epoch 42/100\n",
            "\u001b[1m1206/1206\u001b[0m \u001b[32m━━━━━━━━━━━━━━━━━━━━\u001b[0m\u001b[37m\u001b[0m \u001b[1m8s\u001b[0m 3ms/step - accuracy: 0.7102 - loss: 0.7795 - learning_rate: 1.2500e-04\n",
            "Epoch 43/100\n",
            "\u001b[1m1206/1206\u001b[0m \u001b[32m━━━━━━━━━━━━━━━━━━━━\u001b[0m\u001b[37m\u001b[0m \u001b[1m6s\u001b[0m 4ms/step - accuracy: 0.7121 - loss: 0.7793 - learning_rate: 1.2500e-04\n",
            "Epoch 44/100\n",
            "\u001b[1m1206/1206\u001b[0m \u001b[32m━━━━━━━━━━━━━━━━━━━━\u001b[0m\u001b[37m\u001b[0m \u001b[1m4s\u001b[0m 3ms/step - accuracy: 0.7100 - loss: 0.7808 - learning_rate: 1.2500e-04\n",
            "Epoch 45/100\n",
            "\u001b[1m1206/1206\u001b[0m \u001b[32m━━━━━━━━━━━━━━━━━━━━\u001b[0m\u001b[37m\u001b[0m \u001b[1m3s\u001b[0m 3ms/step - accuracy: 0.7077 - loss: 0.7855 - learning_rate: 1.2500e-04\n",
            "Epoch 46/100\n",
            "\u001b[1m1206/1206\u001b[0m \u001b[32m━━━━━━━━━━━━━━━━━━━━\u001b[0m\u001b[37m\u001b[0m \u001b[1m7s\u001b[0m 4ms/step - accuracy: 0.7102 - loss: 0.7807 - learning_rate: 1.2500e-04\n",
            "Epoch 47/100\n",
            "\u001b[1m1206/1206\u001b[0m \u001b[32m━━━━━━━━━━━━━━━━━━━━\u001b[0m\u001b[37m\u001b[0m \u001b[1m4s\u001b[0m 3ms/step - accuracy: 0.7143 - loss: 0.7759 - learning_rate: 1.2500e-04\n",
            "Epoch 48/100\n",
            "\u001b[1m1206/1206\u001b[0m \u001b[32m━━━━━━━━━━━━━━━━━━━━\u001b[0m\u001b[37m\u001b[0m \u001b[1m4s\u001b[0m 3ms/step - accuracy: 0.7105 - loss: 0.7785 - learning_rate: 6.2500e-05\n",
            "Epoch 49/100\n",
            "\u001b[1m1206/1206\u001b[0m \u001b[32m━━━━━━━━━━━━━━━━━━━━\u001b[0m\u001b[37m\u001b[0m \u001b[1m4s\u001b[0m 3ms/step - accuracy: 0.7068 - loss: 0.7859 - learning_rate: 6.2500e-05\n",
            "Epoch 50/100\n",
            "\u001b[1m1206/1206\u001b[0m \u001b[32m━━━━━━━━━━━━━━━━━━━━\u001b[0m\u001b[37m\u001b[0m \u001b[1m5s\u001b[0m 3ms/step - accuracy: 0.7070 - loss: 0.7868 - learning_rate: 6.2500e-05\n",
            "Epoch 51/100\n",
            "\u001b[1m1206/1206\u001b[0m \u001b[32m━━━━━━━━━━━━━━━━━━━━\u001b[0m\u001b[37m\u001b[0m \u001b[1m5s\u001b[0m 3ms/step - accuracy: 0.7091 - loss: 0.7830 - learning_rate: 6.2500e-05\n",
            "Epoch 52/100\n",
            "\u001b[1m1206/1206\u001b[0m \u001b[32m━━━━━━━━━━━━━━━━━━━━\u001b[0m\u001b[37m\u001b[0m \u001b[1m7s\u001b[0m 4ms/step - accuracy: 0.7101 - loss: 0.7817 - learning_rate: 6.2500e-05\n",
            "Epoch 53/100\n",
            "\u001b[1m1206/1206\u001b[0m \u001b[32m━━━━━━━━━━━━━━━━━━━━\u001b[0m\u001b[37m\u001b[0m \u001b[1m4s\u001b[0m 3ms/step - accuracy: 0.7092 - loss: 0.7827 - learning_rate: 6.2500e-05\n",
            "Epoch 54/100\n",
            "\u001b[1m1206/1206\u001b[0m \u001b[32m━━━━━━━━━━━━━━━━━━━━\u001b[0m\u001b[37m\u001b[0m \u001b[1m5s\u001b[0m 3ms/step - accuracy: 0.7090 - loss: 0.7833 - learning_rate: 3.1250e-05\n",
            "Epoch 55/100\n",
            "\u001b[1m1206/1206\u001b[0m \u001b[32m━━━━━━━━━━━━━━━━━━━━\u001b[0m\u001b[37m\u001b[0m \u001b[1m7s\u001b[0m 4ms/step - accuracy: 0.7083 - loss: 0.7829 - learning_rate: 3.1250e-05\n",
            "Epoch 56/100\n",
            "\u001b[1m1206/1206\u001b[0m \u001b[32m━━━━━━━━━━━━━━━━━━━━\u001b[0m\u001b[37m\u001b[0m \u001b[1m3s\u001b[0m 3ms/step - accuracy: 0.7097 - loss: 0.7820 - learning_rate: 3.1250e-05\n",
            "Epoch 57/100\n",
            "\u001b[1m1206/1206\u001b[0m \u001b[32m━━━━━━━━━━━━━━━━━━━━\u001b[0m\u001b[37m\u001b[0m \u001b[1m5s\u001b[0m 3ms/step - accuracy: 0.7109 - loss: 0.7786 - learning_rate: 3.1250e-05\n",
            "Epoch 58/100\n",
            "\u001b[1m1206/1206\u001b[0m \u001b[32m━━━━━━━━━━━━━━━━━━━━\u001b[0m\u001b[37m\u001b[0m \u001b[1m5s\u001b[0m 4ms/step - accuracy: 0.7108 - loss: 0.7780 - learning_rate: 3.1250e-05\n",
            "Epoch 59/100\n",
            "\u001b[1m1206/1206\u001b[0m \u001b[32m━━━━━━━━━━━━━━━━━━━━\u001b[0m\u001b[37m\u001b[0m \u001b[1m8s\u001b[0m 3ms/step - accuracy: 0.7109 - loss: 0.7792 - learning_rate: 1.5625e-05\n",
            "Epoch 60/100\n",
            "\u001b[1m1206/1206\u001b[0m \u001b[32m━━━━━━━━━━━━━━━━━━━━\u001b[0m\u001b[37m\u001b[0m \u001b[1m5s\u001b[0m 5ms/step - accuracy: 0.7124 - loss: 0.7764 - learning_rate: 1.5625e-05\n",
            "Epoch 61/100\n",
            "\u001b[1m1206/1206\u001b[0m \u001b[32m━━━━━━━━━━━━━━━━━━━━\u001b[0m\u001b[37m\u001b[0m \u001b[1m8s\u001b[0m 3ms/step - accuracy: 0.7098 - loss: 0.7799 - learning_rate: 1.5625e-05\n",
            "Epoch 62/100\n",
            "\u001b[1m1206/1206\u001b[0m \u001b[32m━━━━━━━━━━━━━━━━━━━━\u001b[0m\u001b[37m\u001b[0m \u001b[1m6s\u001b[0m 4ms/step - accuracy: 0.7100 - loss: 0.7808 - learning_rate: 1.5625e-05\n",
            "Epoch 63/100\n",
            "\u001b[1m1206/1206\u001b[0m \u001b[32m━━━━━━━━━━━━━━━━━━━━\u001b[0m\u001b[37m\u001b[0m \u001b[1m4s\u001b[0m 3ms/step - accuracy: 0.7066 - loss: 0.7856 - learning_rate: 1.5625e-05\n",
            "Epoch 64/100\n",
            "\u001b[1m1206/1206\u001b[0m \u001b[32m━━━━━━━━━━━━━━━━━━━━\u001b[0m\u001b[37m\u001b[0m \u001b[1m4s\u001b[0m 3ms/step - accuracy: 0.7093 - loss: 0.7806 - learning_rate: 1.5625e-05\n",
            "Epoch 65/100\n",
            "\u001b[1m1206/1206\u001b[0m \u001b[32m━━━━━━━━━━━━━━━━━━━━\u001b[0m\u001b[37m\u001b[0m \u001b[1m6s\u001b[0m 4ms/step - accuracy: 0.7058 - loss: 0.7870 - learning_rate: 1.5625e-05\n",
            "Epoch 66/100\n",
            "\u001b[1m1206/1206\u001b[0m \u001b[32m━━━━━━━━━━━━━━━━━━━━\u001b[0m\u001b[37m\u001b[0m \u001b[1m3s\u001b[0m 3ms/step - accuracy: 0.7082 - loss: 0.7830 - learning_rate: 1.5625e-05\n",
            "Epoch 67/100\n",
            "\u001b[1m1206/1206\u001b[0m \u001b[32m━━━━━━━━━━━━━━━━━━━━\u001b[0m\u001b[37m\u001b[0m \u001b[1m6s\u001b[0m 3ms/step - accuracy: 0.7059 - loss: 0.7876 - learning_rate: 1.5625e-05\n",
            "Epoch 68/100\n",
            "\u001b[1m1206/1206\u001b[0m \u001b[32m━━━━━━━━━━━━━━━━━━━━\u001b[0m\u001b[37m\u001b[0m \u001b[1m6s\u001b[0m 4ms/step - accuracy: 0.7107 - loss: 0.7784 - learning_rate: 1.5625e-05\n",
            "Epoch 69/100\n",
            "\u001b[1m1206/1206\u001b[0m \u001b[32m━━━━━━━━━━━━━━━━━━━━\u001b[0m\u001b[37m\u001b[0m \u001b[1m3s\u001b[0m 3ms/step - accuracy: 0.7093 - loss: 0.7812 - learning_rate: 1.5625e-05\n",
            "Epoch 70/100\n",
            "\u001b[1m1206/1206\u001b[0m \u001b[32m━━━━━━━━━━━━━━━━━━━━\u001b[0m\u001b[37m\u001b[0m \u001b[1m4s\u001b[0m 3ms/step - accuracy: 0.7085 - loss: 0.7826 - learning_rate: 1.5625e-05\n",
            "Epoch 71/100\n",
            "\u001b[1m1206/1206\u001b[0m \u001b[32m━━━━━━━━━━━━━━━━━━━━\u001b[0m\u001b[37m\u001b[0m \u001b[1m4s\u001b[0m 4ms/step - accuracy: 0.7099 - loss: 0.7811 - learning_rate: 1.5625e-05\n",
            "Epoch 72/100\n",
            "\u001b[1m1206/1206\u001b[0m \u001b[32m━━━━━━━━━━━━━━━━━━━━\u001b[0m\u001b[37m\u001b[0m \u001b[1m4s\u001b[0m 3ms/step - accuracy: 0.7060 - loss: 0.7857 - learning_rate: 1.5625e-05\n",
            "Epoch 73/100\n",
            "\u001b[1m1206/1206\u001b[0m \u001b[32m━━━━━━━━━━━━━━━━━━━━\u001b[0m\u001b[37m\u001b[0m \u001b[1m3s\u001b[0m 3ms/step - accuracy: 0.7109 - loss: 0.7785 - learning_rate: 1.0000e-05\n",
            "Epoch 74/100\n",
            "\u001b[1m1206/1206\u001b[0m \u001b[32m━━━━━━━━━━━━━━━━━━━━\u001b[0m\u001b[37m\u001b[0m \u001b[1m3s\u001b[0m 3ms/step - accuracy: 0.7093 - loss: 0.7822 - learning_rate: 1.0000e-05\n",
            "Epoch 75/100\n",
            "\u001b[1m1206/1206\u001b[0m \u001b[32m━━━━━━━━━━━━━━━━━━━━\u001b[0m\u001b[37m\u001b[0m \u001b[1m5s\u001b[0m 4ms/step - accuracy: 0.7089 - loss: 0.7823 - learning_rate: 1.0000e-05\n",
            "Epoch 76/100\n",
            "\u001b[1m1206/1206\u001b[0m \u001b[32m━━━━━━━━━━━━━━━━━━━━\u001b[0m\u001b[37m\u001b[0m \u001b[1m8s\u001b[0m 3ms/step - accuracy: 0.7061 - loss: 0.7879 - learning_rate: 1.0000e-05\n",
            "Epoch 77/100\n",
            "\u001b[1m1206/1206\u001b[0m \u001b[32m━━━━━━━━━━━━━━━━━━━━\u001b[0m\u001b[37m\u001b[0m \u001b[1m5s\u001b[0m 4ms/step - accuracy: 0.7093 - loss: 0.7824 - learning_rate: 1.0000e-05\n",
            "\u001b[1m302/302\u001b[0m \u001b[32m━━━━━━━━━━━━━━━━━━━━\u001b[0m\u001b[37m\u001b[0m \u001b[1m1s\u001b[0m 2ms/step - accuracy: 0.7058 - loss: 0.7844\n",
            "Test Accuracy: 70.35%\n"
          ]
        }
      ],
      "source": [
        "from sklearn.preprocessing import StandardScaler\n",
        "from tensorflow.keras import layers, regularizers, callbacks, optimizers\n",
        "\n",
        "# Normalize the input data\n",
        "scaler = StandardScaler()\n",
        "X_train_scaled = scaler.fit_transform(X_train)\n",
        "X_test_scaled = scaler.transform(X_test)\n",
        "\n",
        "# Model with optimization techniques\n",
        "model2 = Sequential([\n",
        "    layers.Input(shape=(X_train.shape[1],)),\n",
        "    layers.Dense(256, activation='relu', kernel_regularizer=regularizers.l2(0.001)),  # Increased neurons, adjusted regularization\n",
        "    layers.Dropout(0.3),  # Dropout layer to reduce overfitting\n",
        "    layers.Dense(128, activation='relu'),\n",
        "    layers.Dropout(0.3),  # Dropout layer to reduce overfitting\n",
        "    layers.Dense(64, activation='relu'),\n",
        "    layers.Dense(3, activation='softmax')  # Output layer for 3 classes\n",
        "])\n",
        "\n",
        "# Compile the model with an optimizer\n",
        "model2.compile(optimizer=optimizers.Adam(learning_rate=0.0005),  # Reduced learning rate\n",
        "               loss='sparse_categorical_crossentropy',  # Use categorical_crossentropy if using one-hot encoding\n",
        "               metrics=['accuracy'])\n",
        "\n",
        "# Early stopping callback and Learning Rate Scheduler\n",
        "early_stopping = callbacks.EarlyStopping(monitor='loss', patience=10, restore_best_weights=True)\n",
        "lr_scheduler = callbacks.ReduceLROnPlateau(monitor='loss', factor=0.5, patience=5, min_lr=0.00001)\n",
        "\n",
        "# Train the model\n",
        "history2 = model2.fit(X_train_scaled, y_train,\n",
        "                      epochs=100,  # Increased epochs to allow for better convergence\n",
        "                      callbacks=[early_stopping, lr_scheduler])\n",
        "\n",
        "# Evaluate the model on the test set\n",
        "test_loss, test_accuracy = model2.evaluate(X_test_scaled, y_test)\n",
        "print(f\"Test Accuracy: {test_accuracy * 100:.2f}%\")\n"
      ]
    },
    {
      "cell_type": "code",
      "execution_count": 9,
      "metadata": {
        "colab": {
          "base_uri": "https://localhost:8080/"
        },
        "id": "PjmgLwUu5N0i",
        "outputId": "025302e3-1e76-4e9b-ba35-fa073cd90832"
      },
      "outputs": [
        {
          "output_type": "stream",
          "name": "stdout",
          "text": [
            "\u001b[1m302/302\u001b[0m \u001b[32m━━━━━━━━━━━━━━━━━━━━\u001b[0m\u001b[37m\u001b[0m \u001b[1m1s\u001b[0m 2ms/step - accuracy: 0.7058 - loss: 0.7844\n",
            "Model 2 Test Accuracy: 0.70\n"
          ]
        }
      ],
      "source": [
        "# Evaluate the model\n",
        "loss2, acc2 = model2.evaluate(X_test_scaled, y_test)\n",
        "print(f\"Model 2 Test Accuracy: {acc2:.2f}\")\n"
      ]
    },
    {
      "cell_type": "code",
      "execution_count": 10,
      "metadata": {
        "colab": {
          "base_uri": "https://localhost:8080/"
        },
        "id": "SPgFgo_p5N0j",
        "outputId": "d0cb167c-a9f6-4a8c-ad3c-1397ed24a0f3"
      },
      "outputs": [
        {
          "output_type": "stream",
          "name": "stderr",
          "text": [
            "WARNING:absl:You are saving your model as an HDF5 file via `model.save()` or `keras.saving.save_model(model)`. This file format is considered legacy. We recommend using instead the native Keras format, e.g. `model.save('my_model.keras')` or `keras.saving.save_model(model, 'my_model.keras')`. \n"
          ]
        }
      ],
      "source": [
        "# Save the optimized model\n",
        "model2.save(\"saved_models/model2_optimized.h5\")\n"
      ]
    },
    {
      "cell_type": "code",
      "execution_count": 10,
      "metadata": {
        "id": "49k_1Xoh5N0l"
      },
      "outputs": [],
      "source": []
    },
    {
      "cell_type": "code",
      "execution_count": 10,
      "metadata": {
        "id": "AFa7MFlp5N0l"
      },
      "outputs": [],
      "source": []
    },
    {
      "cell_type": "code",
      "execution_count": 10,
      "metadata": {
        "id": "bV2MBUUX5N0l"
      },
      "outputs": [],
      "source": []
    },
    {
      "cell_type": "code",
      "execution_count": 10,
      "metadata": {
        "id": "zaiYHY0O5N0l"
      },
      "outputs": [],
      "source": []
    },
    {
      "cell_type": "code",
      "execution_count": 10,
      "metadata": {
        "id": "72TQlHgd5N0l"
      },
      "outputs": [],
      "source": []
    },
    {
      "cell_type": "code",
      "execution_count": 10,
      "metadata": {
        "id": "BHdKFDAL5N0l"
      },
      "outputs": [],
      "source": []
    },
    {
      "cell_type": "code",
      "execution_count": 10,
      "metadata": {
        "id": "ULidnZ5I5N0m"
      },
      "outputs": [],
      "source": []
    }
  ],
  "metadata": {
    "kernelspec": {
      "display_name": "Python 3",
      "language": "python",
      "name": "python3"
    },
    "language_info": {
      "codemirror_mode": {
        "name": "ipython",
        "version": 3
      },
      "file_extension": ".py",
      "mimetype": "text/x-python",
      "name": "python",
      "nbconvert_exporter": "python",
      "pygments_lexer": "ipython3",
      "version": "3.11.3"
    },
    "colab": {
      "provenance": []
    }
  },
  "nbformat": 4,
  "nbformat_minor": 0
}